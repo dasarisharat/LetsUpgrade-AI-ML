{
 "cells": [
  {
   "cell_type": "markdown",
   "metadata": {},
   "source": [
    "# 1. Create a 3x3x3 array with random values "
   ]
  },
  {
   "cell_type": "code",
   "execution_count": 2,
   "metadata": {},
   "outputs": [
    {
     "name": "stdout",
     "output_type": "stream",
     "text": [
      "[[[0.06402813 0.44305427 0.35988889]\n",
      "  [0.60394522 0.85178906 0.10142201]\n",
      "  [0.11437645 0.53203287 0.6364239 ]]\n",
      "\n",
      " [[0.56938851 0.43937558 0.30324846]\n",
      "  [0.32579558 0.84564386 0.66111162]\n",
      "  [0.44567901 0.96325201 0.92151178]]\n",
      "\n",
      " [[0.7758588  0.28904396 0.31885528]\n",
      "  [0.81782675 0.66060053 0.40302118]\n",
      "  [0.24960626 0.92140302 0.86786449]]]\n"
     ]
    }
   ],
   "source": [
    "import numpy as np\n",
    "x = np.random.random((3,3,3))\n",
    "print(x)"
   ]
  },
  {
   "cell_type": "markdown",
   "metadata": {},
   "source": [
    "# 2.Create a 5x5 matrix with values 1,2,3,4 just below the diagonal"
   ]
  },
  {
   "cell_type": "code",
   "execution_count": 2,
   "metadata": {},
   "outputs": [
    {
     "name": "stdout",
     "output_type": "stream",
     "text": [
      "[[1 0 0 0 0]\n",
      " [0 2 0 0 0]\n",
      " [0 0 3 0 0]\n",
      " [0 0 0 4 0]\n",
      " [0 0 0 0 5]]\n"
     ]
    }
   ],
   "source": [
    "x = np.diag([1, 2, 3, 4, 5])\n",
    "print(x)"
   ]
  },
  {
   "cell_type": "markdown",
   "metadata": {},
   "source": [
    "# 3.Create a 8x8 matrix and fill it with a checkerboard pattern"
   ]
  },
  {
   "cell_type": "code",
   "execution_count": 3,
   "metadata": {},
   "outputs": [
    {
     "name": "stdout",
     "output_type": "stream",
     "text": [
      "Checkerboard pattern:\n",
      "[[0 1 0 1 0 1 0 1]\n",
      " [1 0 1 0 1 0 1 0]\n",
      " [0 1 0 1 0 1 0 1]\n",
      " [1 0 1 0 1 0 1 0]\n",
      " [0 1 0 1 0 1 0 1]\n",
      " [1 0 1 0 1 0 1 0]\n",
      " [0 1 0 1 0 1 0 1]\n",
      " [1 0 1 0 1 0 1 0]]\n"
     ]
    }
   ],
   "source": [
    "x = np.ones((3,3))\n",
    "print(\"Checkerboard pattern:\")\n",
    "x = np.zeros((8,8),dtype=int)\n",
    "x[1::2,::2] = 1\n",
    "x[::2,1::2] = 1\n",
    "print(x)"
   ]
  },
  {
   "cell_type": "markdown",
   "metadata": {},
   "source": [
    "# 4. Normalize a 5x5 random matrix"
   ]
  },
  {
   "cell_type": "code",
   "execution_count": null,
   "metadata": {},
   "outputs": [],
   "source": []
  },
  {
   "cell_type": "markdown",
   "metadata": {},
   "source": [
    "# 5.  How to find common values between two arrays?"
   ]
  },
  {
   "cell_type": "code",
   "execution_count": 4,
   "metadata": {},
   "outputs": [
    {
     "name": "stdout",
     "output_type": "stream",
     "text": [
      "Array1:  [ 0 10 20 40 60]\n",
      "Array2:  [10, 30, 40]\n",
      "Common values between two arrays:\n",
      "[10 40]\n"
     ]
    }
   ],
   "source": [
    "array1 = np.array([0, 10, 20, 40, 60])\n",
    "print(\"Array1: \",array1)\n",
    "array2 = [10, 30, 40]\n",
    "print(\"Array2: \",array2)\n",
    "print(\"Common values between two arrays:\")\n",
    "print(np.intersect1d(array1, array2))\n",
    "\n"
   ]
  },
  {
   "cell_type": "markdown",
   "metadata": {},
   "source": [
    "# 6.How to get the dates of yesterday, today and tomorrow?"
   ]
  },
  {
   "cell_type": "code",
   "execution_count": 5,
   "metadata": {},
   "outputs": [
    {
     "name": "stdout",
     "output_type": "stream",
     "text": [
      "Yestraday:  2020-07-27\n",
      "Today:  2020-07-28\n",
      "Tomorrow:  2020-07-29\n"
     ]
    }
   ],
   "source": [
    "yesterday = np.datetime64('today', 'D') - np.timedelta64(1, 'D')\n",
    "print(\"Yestraday: \",yesterday)\n",
    "today     = np.datetime64('today', 'D')\n",
    "print(\"Today: \",today)\n",
    "tomorrow  = np.datetime64('today', 'D') + np.timedelta64(1, 'D')\n",
    "print(\"Tomorrow: \",tomorrow)"
   ]
  },
  {
   "cell_type": "markdown",
   "metadata": {},
   "source": [
    "# 7. Consider two random array A and B, check if they are equal"
   ]
  },
  {
   "cell_type": "code",
   "execution_count": 6,
   "metadata": {},
   "outputs": [
    {
     "name": "stdout",
     "output_type": "stream",
     "text": [
      "First array:\n",
      "[1 0 1 1 0 1]\n",
      "Second array:\n",
      "[0 1 0 1 1 1]\n",
      "Test above two arrays are equal or not!\n",
      "False\n"
     ]
    }
   ],
   "source": [
    "a = np.random.randint(0,2,6)\n",
    "print(\"First array:\")\n",
    "print(a)\n",
    "b = np.random.randint(0,2,6)\n",
    "print(\"Second array:\")\n",
    "print(b)\n",
    "print(\"Test above two arrays are equal or not!\")\n",
    "array_equal = np.allclose(a, b)\n",
    "print(array_equal)"
   ]
  },
  {
   "cell_type": "markdown",
   "metadata": {},
   "source": [
    "# 8.Create random vector of size 10 and replace the maximum value by 0 "
   ]
  },
  {
   "cell_type": "code",
   "execution_count": 3,
   "metadata": {},
   "outputs": [
    {
     "name": "stdout",
     "output_type": "stream",
     "text": [
      "Original array:\n",
      "[0.11052451 0.07329349 0.4010787  0.65657001 0.7869338  0.6392652\n",
      " 0.49530627 0.60913762 0.52714426 0.77601419]\n",
      "Sorted array:\n",
      "[0.07329349 0.11052451 0.4010787  0.49530627 0.52714426 0.60913762\n",
      " 0.6392652  0.65657001 0.77601419 0.7869338 ]\n"
     ]
    }
   ],
   "source": [
    "x = np.random.random(10)\n",
    "print(\"Original array:\")\n"
   ]
  },
  {
   "cell_type": "markdown",
   "metadata": {},
   "source": [
    "# 9. How to print all the values of an array?"
   ]
  },
  {
   "cell_type": "code",
   "execution_count": 7,
   "metadata": {},
   "outputs": [
    {
     "name": "stdout",
     "output_type": "stream",
     "text": [
      "0.5022538001738969\n",
      "0.35412362202470804\n",
      "0.7254466317200071\n",
      "0.7397364324345912\n",
      "0.11619647456353555\n",
      "0.273503132294697\n",
      "0.8817638173457902\n",
      "0.7971611469611569\n",
      "0.4735677438815018\n",
      "0.5595828562310885\n",
      "0.3979710655815134\n",
      "0.2685366797203096\n",
      "0.25560716741780687\n",
      "0.1298167022269009\n",
      "0.5388130686960353\n",
      "0.1950169039433145\n",
      "0.1910725926632213\n",
      "0.3620526518449245\n",
      "0.8135528464413212\n",
      "0.11276643028555933\n",
      "0.41230809545552893\n",
      "0.48777374047309974\n",
      "0.4766699627275113\n",
      "0.09674967627739617\n",
      "0.5789004158878565\n",
      "0.1628565744928282\n",
      "0.21463245944054254\n",
      "0.17401640304324706\n",
      "0.12097383731089884\n",
      "0.4386223521214122\n",
      "0.1865801232855211\n",
      "0.13829534130806076\n",
      "0.41886125715908684\n",
      "0.18455771489453976\n",
      "0.6853706757239593\n",
      "0.8308276994891886\n",
      "0.40312209287678147\n",
      "0.57078900791008\n",
      "0.8649042871226394\n",
      "0.04081970468192986\n",
      "0.027771273901797233\n",
      "0.26866663513018996\n",
      "0.09148020513058974\n",
      "0.3778943528640233\n",
      "0.8646812520223665\n",
      "0.41153312241328976\n",
      "0.15144277932190853\n",
      "0.2966852173898604\n",
      "0.5747410377711825\n",
      "0.5052720032194137\n",
      "0.3976245975411419\n",
      "0.24300812144745798\n",
      "0.7377849719471484\n",
      "0.2588906061941101\n",
      "0.6004416981805818\n",
      "0.4910610540315292\n",
      "0.8558334866861778\n",
      "0.6949989970024567\n",
      "0.5382351308030626\n",
      "0.01605089413137606\n",
      "0.8603086576486435\n",
      "0.8737438732143158\n",
      "0.8351138556205819\n",
      "0.9406452218105401\n",
      "0.4421350615739995\n",
      "0.143677043429149\n",
      "0.7822617564228679\n",
      "0.17684402678944466\n",
      "0.7858611920722841\n",
      "0.2095929963268346\n",
      "0.9189449616807818\n",
      "0.9643315835951904\n",
      "0.6641574795759528\n",
      "0.6194565299214794\n",
      "0.06270206068323902\n",
      "0.6912952360761383\n",
      "0.2689558069900915\n",
      "0.3678305453496721\n",
      "0.5838684616927154\n",
      "0.506695018270505\n",
      "0.8233351817311472\n",
      "0.26246428514221254\n",
      "0.412238597099411\n",
      "0.5875837360182427\n",
      "0.787947124819834\n",
      "0.5895772082198334\n",
      "0.14249644574092024\n",
      "0.6525421284397337\n",
      "0.7042248064850183\n",
      "0.30308515944570924\n",
      "0.47480535389913114\n",
      "0.8307217951280346\n",
      "0.4321589194411354\n",
      "0.21409585334762848\n",
      "0.3933114965000608\n",
      "0.8903523383008635\n",
      "0.7522601231730298\n",
      "0.8764172297505746\n",
      "0.3857163588316419\n",
      "0.09345037239456544\n"
     ]
    }
   ],
   "source": [
    "aa = np.random.random(100)\n",
    " \n",
    "for i in range(0, len(aa)):    \n",
    "    print(aa[i]),    "
   ]
  },
  {
   "cell_type": "markdown",
   "metadata": {},
   "source": [
    "# 10.Subtract the mean of each row of a matrix"
   ]
  },
  {
   "cell_type": "code",
   "execution_count": 8,
   "metadata": {},
   "outputs": [
    {
     "name": "stdout",
     "output_type": "stream",
     "text": [
      "Original matrix:\n",
      "\n",
      "[[0.30058553 0.81236452 0.19306991 0.3109196  0.36374977 0.31101341\n",
      "  0.00746096 0.65201922 0.36722199 0.24443696]\n",
      " [0.28132112 0.73814858 0.60688173 0.28126194 0.9221826  0.59805588\n",
      "  0.79820269 0.55475321 0.22653061 0.73064324]\n",
      " [0.89075236 0.43700265 0.35693373 0.45871838 0.47947421 0.35871781\n",
      "  0.01540413 0.2112671  0.69082478 0.53740273]\n",
      " [0.27506337 0.33665582 0.06294002 0.03300871 0.50955617 0.55368862\n",
      "  0.84038836 0.90096461 0.35804103 0.06038285]\n",
      " [0.40594596 0.27559048 0.92561812 0.13411993 0.11910562 0.67029421\n",
      "  0.22213854 0.6866831  0.82441838 0.74556006]]\n",
      "\n",
      "Subtract the mean of each row of the said matrix:\n",
      "\n",
      "[[-0.05569866  0.45608034 -0.16321427 -0.04536458  0.00746558 -0.04527078\n",
      "  -0.34882322  0.29573503  0.0109378  -0.11184723]\n",
      " [-0.29247704  0.16435042  0.03308357 -0.29253622  0.34838444  0.02425772\n",
      "   0.22440453 -0.01904495 -0.34726755  0.15684508]\n",
      " [ 0.44710257 -0.00664714 -0.08671606  0.0150686   0.03582442 -0.08493197\n",
      "  -0.42824566 -0.23238269  0.24717499  0.09375294]\n",
      " [-0.11800559 -0.05641314 -0.33012894 -0.36006025  0.11648721  0.16061967\n",
      "   0.44731941  0.50789566 -0.03502793 -0.33268611]\n",
      " [-0.09500148 -0.22535696  0.42467068 -0.36682751 -0.38184182  0.16934677\n",
      "  -0.2788089   0.18573566  0.32347094  0.24461262]]\n"
     ]
    }
   ],
   "source": [
    "print(\"Original matrix:\\n\")\n",
    "X = np.random.rand(5, 10)\n",
    "print(X)\n",
    "print(\"\\nSubtract the mean of each row of the said matrix:\\n\")\n",
    "Y = X - X.mean(axis=1, keepdims=True)\n",
    "print(Y)"
   ]
  },
  {
   "cell_type": "markdown",
   "metadata": {},
   "source": [
    "# 11.Consider a given vector, how to add 1 to each element indexed by a second vector (be careful with repeated indices)? "
   ]
  },
  {
   "cell_type": "code",
   "execution_count": null,
   "metadata": {},
   "outputs": [],
   "source": []
  },
  {
   "cell_type": "code",
   "execution_count": null,
   "metadata": {},
   "outputs": [],
   "source": []
  },
  {
   "cell_type": "markdown",
   "metadata": {},
   "source": [
    "# 12.How to get the diagonal of a dot product?"
   ]
  },
  {
   "cell_type": "code",
   "execution_count": 11,
   "metadata": {},
   "outputs": [
    {
     "data": {
      "text/plain": [
       "array([  60,  672, 1932, 3840, 6396])"
      ]
     },
     "execution_count": 11,
     "metadata": {},
     "output_type": "execute_result"
    }
   ],
   "source": [
    " a = np.arange(15).reshape(5, 3)\n",
    "b = np.arange(9).reshape(3, 3)\n",
    "\n",
    "np.diag(np.dot(np.dot(a, b), a.T))\n"
   ]
  },
  {
   "cell_type": "markdown",
   "metadata": {},
   "source": [
    "# 13.How to find the most frequent value in an array?"
   ]
  },
  {
   "cell_type": "code",
   "execution_count": 14,
   "metadata": {},
   "outputs": [],
   "source": [
    "arr = [1, 3, 2, 1, 4, 1]\n"
   ]
  },
  {
   "cell_type": "markdown",
   "metadata": {},
   "source": [
    "# 14.How to get the n largest values of an array"
   ]
  },
  {
   "cell_type": "code",
   "execution_count": 15,
   "metadata": {},
   "outputs": [
    {
     "name": "stdout",
     "output_type": "stream",
     "text": [
      "Original array:\n",
      "[0 1 2 3 4 5 6 7 8 9]\n",
      "[9]\n"
     ]
    }
   ],
   "source": [
    "x = np.arange(10)\n",
    "print(\"Original array:\")\n",
    "print(x)\n",
    "np.random.shuffle(x)\n",
    "n = 1\n",
    "print (x[np.argsort(x)[-n:]])"
   ]
  },
  {
   "cell_type": "markdown",
   "metadata": {},
   "source": [
    "# 15.How to create a record array from a regular array?"
   ]
  },
  {
   "cell_type": "code",
   "execution_count": 16,
   "metadata": {},
   "outputs": [
    {
     "name": "stdout",
     "output_type": "stream",
     "text": [
      "Original arrays:\n",
      "[['Yasemin Rayner' '88.5' '90']\n",
      " ['Ayaana Mcnamara' '87' '99']\n",
      " ['Jody Preece' '85.5' '91']]\n",
      "\n",
      "Record array;\n",
      "[(b'Yasemin Rayner', 88.5, 90) (b'Ayaana Mcnamara', 87. , 99)\n",
      " (b'Jody Preece', 85.5, 91)]\n"
     ]
    }
   ],
   "source": [
    "import numpy as np\n",
    "arra1 = np.array([(\"Yasemin Rayner\", 88.5, 90),\n",
    "                 (\"Ayaana Mcnamara\", 87, 99),\n",
    "             (\"Jody Preece\", 85.5, 91)])\n",
    "print(\"Original arrays:\")\n",
    "print(arra1)\n",
    "print(\"\\nRecord array;\")\n",
    "result = np.core.records.fromarrays(arra1.T,\n",
    "                              names='col1, col2, col3',\n",
    "                              formats = 'S80, f8, i8')\n",
    "print(result)"
   ]
  },
  {
   "cell_type": "code",
   "execution_count": null,
   "metadata": {},
   "outputs": [],
   "source": []
  }
 ],
 "metadata": {
  "kernelspec": {
   "display_name": "Python 3",
   "language": "python",
   "name": "python3"
  },
  "language_info": {
   "codemirror_mode": {
    "name": "ipython",
    "version": 3
   },
   "file_extension": ".py",
   "mimetype": "text/x-python",
   "name": "python",
   "nbconvert_exporter": "python",
   "pygments_lexer": "ipython3",
   "version": "3.7.6"
  }
 },
 "nbformat": 4,
 "nbformat_minor": 2
}
