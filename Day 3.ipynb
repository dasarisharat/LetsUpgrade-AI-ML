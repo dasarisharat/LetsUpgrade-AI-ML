{
 "cells": [
  {
   "cell_type": "markdown",
   "metadata": {},
   "source": [
    "_Question 1 :_\n",
    "___Write a program to subtract two complex numbers in Python. ?___"
   ]
  },
  {
   "cell_type": "code",
   "execution_count": 1,
   "metadata": {},
   "outputs": [],
   "source": [
    "a = 5+8j\n",
    "b = 4+5j"
   ]
  },
  {
   "cell_type": "code",
   "execution_count": 2,
   "metadata": {},
   "outputs": [],
   "source": [
    "def Subtract_Complex_Number (a1,b1):\n",
    "    Subtraction = a-b\n",
    "    return Subtraction"
   ]
  },
  {
   "cell_type": "code",
   "execution_count": 3,
   "metadata": {},
   "outputs": [
    {
     "name": "stdout",
     "output_type": "stream",
     "text": [
      "Subtracted Value is\n"
     ]
    },
    {
     "data": {
      "text/plain": [
       "(1+3j)"
      ]
     },
     "execution_count": 3,
     "metadata": {},
     "output_type": "execute_result"
    }
   ],
   "source": [
    "\n",
    "print(\"Subtracted Value is\")\n",
    "Subtract_Complex_Number(a,b)"
   ]
  },
  {
   "cell_type": "markdown",
   "metadata": {},
   "source": [
    "_Question 2 :_\n",
    "___Write a program to find the fourth root of a number?___"
   ]
  },
  {
   "cell_type": "code",
   "execution_count": 10,
   "metadata": {},
   "outputs": [],
   "source": [
    "import math as m"
   ]
  },
  {
   "cell_type": "code",
   "execution_count": 17,
   "metadata": {},
   "outputs": [],
   "source": [
    "def fourthroot (num,root):\n",
    "    Answer = num**(1/root)\n",
    "    return Answer"
   ]
  },
  {
   "cell_type": "code",
   "execution_count": 21,
   "metadata": {},
   "outputs": [
    {
     "name": "stdout",
     "output_type": "stream",
     "text": [
      "Answer : \n"
     ]
    },
    {
     "data": {
      "text/plain": [
       "3.1622776601683795"
      ]
     },
     "execution_count": 21,
     "metadata": {},
     "output_type": "execute_result"
    }
   ],
   "source": [
    "print(\"Answer : \")\n",
    "fourthroot(100,4)"
   ]
  },
  {
   "cell_type": "markdown",
   "metadata": {},
   "source": [
    "_Question 3:_\n",
    "___Write a program to swap two numbers in Python with the help of a temporary variable.?___"
   ]
  },
  {
   "cell_type": "code",
   "execution_count": 32,
   "metadata": {},
   "outputs": [
    {
     "name": "stdout",
     "output_type": "stream",
     "text": [
      "Varaible before swap\n",
      "Swap_a : 10\n",
      "Swap_b : 20\n"
     ]
    }
   ],
   "source": [
    "swap_a = 10\n",
    "swap_b = 20\n",
    "print(\"Varaible before swap\")\n",
    "print(\"Swap_a :\", swap_a)\n",
    "print(\"Swap_b :\", swap_b)"
   ]
  },
  {
   "cell_type": "code",
   "execution_count": 34,
   "metadata": {},
   "outputs": [],
   "source": [
    "temp   = swap_a\n",
    "swap_a = swap_b\n",
    "swap_b = temp"
   ]
  },
  {
   "cell_type": "code",
   "execution_count": 35,
   "metadata": {},
   "outputs": [
    {
     "name": "stdout",
     "output_type": "stream",
     "text": [
      "Varaible after swap\n",
      "Swap_a : 20\n",
      "Swap_b : 10\n"
     ]
    }
   ],
   "source": [
    "print(\"Varaible after swap\")\n",
    "print(\"Swap_a :\", swap_a)\n",
    "print(\"Swap_b :\", swap_b)"
   ]
  },
  {
   "cell_type": "markdown",
   "metadata": {},
   "source": [
    "_Question 4:_\n",
    "___Write a program to swap two numbers in Python without using a temporary variable.?___"
   ]
  },
  {
   "cell_type": "code",
   "execution_count": 43,
   "metadata": {},
   "outputs": [],
   "source": [
    "c = 10\n",
    "d = 15\n",
    "\n"
   ]
  },
  {
   "cell_type": "code",
   "execution_count": 86,
   "metadata": {},
   "outputs": [
    {
     "name": "stdout",
     "output_type": "stream",
     "text": [
      "Swap with out temporay varaible\n",
      "Swap_c :  15\n",
      "Swap_d :  15\n"
     ]
    }
   ],
   "source": [
    "d = c\n",
    "c = d\n",
    "print(\"Swap with out temporay varaible\")\n",
    "print(\"Swap_c : \", c)\n",
    "print(\"Swap_d : \", d)"
   ]
  },
  {
   "cell_type": "markdown",
   "metadata": {},
   "source": [
    "_Question 5:_\n",
    "___Write a program to convert fahrenheit to kelvin and celsius both.?___"
   ]
  },
  {
   "cell_type": "code",
   "execution_count": 85,
   "metadata": {},
   "outputs": [
    {
     "name": "stdout",
     "output_type": "stream",
     "text": [
      "Enter Fahrenhenit value : 60\n",
      "Fahrenheit value :  60\n",
      "Celsius Value :  15.555555555555555\n",
      "Kelvin value : 289.05555555555554\n"
     ]
    }
   ],
   "source": [
    "Fahrenheit = int(input(\"Enter Fahrenhenit value : \"))\n",
    "\n",
    "Celsius = (Fahrenheit-32)*5/9\n",
    "\n",
    "Kelvin = 273.5+((Fahrenheit-32.0)*(5/9))\n",
    "\n",
    "print(\"Fahrenheit value : \",Fahrenheit)\n",
    "\n",
    "print(\"Celsius Value : \",Celsius) \n",
    "\n",
    "print(\"Kelvin value :\",Kelvin)"
   ]
  },
  {
   "cell_type": "markdown",
   "metadata": {},
   "source": [
    "_Question 6:_\n",
    "___Write a program to demonstrate all the available data types in Python. Hint: Use type() function.?___"
   ]
  },
  {
   "cell_type": "code",
   "execution_count": 58,
   "metadata": {},
   "outputs": [
    {
     "name": "stdout",
     "output_type": "stream",
     "text": [
      "Datatype of number varaible is : Int <class 'int'>\n"
     ]
    }
   ],
   "source": [
    "number = 1\n",
    "print(\"Datatype of number varaible is :\",\"Int\",type(number))"
   ]
  },
  {
   "cell_type": "code",
   "execution_count": 59,
   "metadata": {},
   "outputs": [
    {
     "name": "stdout",
     "output_type": "stream",
     "text": [
      "Datatype of name varaible is : String <class 'str'>\n"
     ]
    }
   ],
   "source": [
    "name = \"SharatDasari\"\n",
    "print(\"Datatype of name varaible is :\",\"String\",type(name))"
   ]
  },
  {
   "cell_type": "code",
   "execution_count": 61,
   "metadata": {},
   "outputs": [
    {
     "name": "stdout",
     "output_type": "stream",
     "text": [
      "Datatype of datatypelist varaible is : List <class 'list'>\n"
     ]
    }
   ],
   "source": [
    "datatypelist=[1,2,3,4,5,6,7,8,9,10]\n",
    "print(\"Datatype of datatypelist varaible is :\",\"List\",type(datatypelist) )"
   ]
  },
  {
   "cell_type": "code",
   "execution_count": 63,
   "metadata": {},
   "outputs": [
    {
     "name": "stdout",
     "output_type": "stream",
     "text": [
      "Datatype of datatypetuples varaible is : Tuple <class 'list'>\n"
     ]
    }
   ],
   "source": [
    "datatypetuples = (1,2,3,4,5,6,7,8,9,10)\n",
    "print(\"Datatype of datatypetuples varaible is :\",\"Tuple\",type(datatypelist))"
   ]
  },
  {
   "cell_type": "code",
   "execution_count": 67,
   "metadata": {},
   "outputs": [
    {
     "name": "stdout",
     "output_type": "stream",
     "text": [
      "Datatype of boolean_True varaible is : Boolean <class 'bool'>\n",
      "Datatype of boolean_False varaible is: Boolean <class 'bool'>\n"
     ]
    }
   ],
   "source": [
    "boolean_True = True\n",
    "boolean_False = False\n",
    "print(\"Datatype of boolean_True varaible is :\",\"Boolean\",type(boolean_True))\n",
    "print(\"Datatype of boolean_False varaible is:\",\"Boolean\",type(boolean_False))"
   ]
  },
  {
   "cell_type": "code",
   "execution_count": 70,
   "metadata": {},
   "outputs": [
    {
     "name": "stdout",
     "output_type": "stream",
     "text": [
      "Datatype of datatypeset varaible is : Set <class 'set'>\n"
     ]
    }
   ],
   "source": [
    "datatypeset= {1,2,3,4}\n",
    "print(\"Datatype of datatypeset varaible is :\",\"Set\",type(datatypeset))"
   ]
  },
  {
   "cell_type": "code",
   "execution_count": 74,
   "metadata": {},
   "outputs": [
    {
     "name": "stdout",
     "output_type": "stream",
     "text": [
      "Datatype of dictionary varaible is : Dict <class 'dict'>\n"
     ]
    }
   ],
   "source": [
    "dictionary = {\"India\":\"Delhi\"}\n",
    "print(\"Datatype of dictionary varaible is :\",\"Dict\",type(dictionary))"
   ]
  },
  {
   "cell_type": "markdown",
   "metadata": {},
   "source": [
    "_Question 7:_\n",
    "___Create a Markdown cell in jupyter and list the steps discussed in the session by Dr. Darshan\n",
    "Ingle sir to create Github profile and upload Githubs Assignment link.___"
   ]
  },
  {
   "cell_type": "markdown",
   "metadata": {},
   "source": [
    "Step 1 : Create a __GitHub__ account using your gmail email id.\n",
    "\n",
    "Step 2 : Login to __GitHub__ account.\n",
    "    \n",
    "Step 3 : Click on __\"New\"__ which avalible on the right side of your computer screen 'or' left side to you.\n",
    "    \n",
    "Step 4 : you will find a column by name __\"Repository name\"__ , fill the column by __\"LetsUpgrade AI-ML\"__ in Repository column.\n",
    "\n",
    "Step 5 : Now without disturbing any column scrool down and click in __Create Repository__.\n",
    "\n",
    "Step 6 : Go into the __\"LetsUpgrade AI-ML\"__ ,Now you drag your assigment file __.ipnb__ file and drop. your file had been uploaded in __GitHub Account__.\n",
    "\n",
    "Step 7 : After uploading copy the __URL from search bar__ and paste the copied url in the assigment form which is given by __LetsUpgrade__.\n",
    "\n",
    "Step 8 : Check your mail, you will get a mail from __LetsUpgrade__ team as your assigments had been done. "
   ]
  },
  {
   "cell_type": "code",
   "execution_count": null,
   "metadata": {},
   "outputs": [],
   "source": []
  }
 ],
 "metadata": {
  "kernelspec": {
   "display_name": "Python 3",
   "language": "python",
   "name": "python3"
  },
  "language_info": {
   "codemirror_mode": {
    "name": "ipython",
    "version": 3
   },
   "file_extension": ".py",
   "mimetype": "text/x-python",
   "name": "python",
   "nbconvert_exporter": "python",
   "pygments_lexer": "ipython3",
   "version": "3.7.6"
  }
 },
 "nbformat": 4,
 "nbformat_minor": 4
}
