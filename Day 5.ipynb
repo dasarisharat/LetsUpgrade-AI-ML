{
 "cells": [
  {
   "cell_type": "markdown",
   "metadata": {},
   "source": [
    "__Question 1 :__\n",
    "___Write a Python program to find the first 20 non-even prime natural numbers.?___"
   ]
  },
  {
   "cell_type": "code",
   "execution_count": 6,
   "metadata": {},
   "outputs": [
    {
     "name": "stdout",
     "output_type": "stream",
     "text": [
      "3\n",
      "5\n",
      "7\n",
      "11\n",
      "13\n",
      "17\n",
      "19\n",
      "23\n",
      "29\n",
      "31\n",
      "37\n",
      "41\n",
      "43\n",
      "47\n",
      "53\n",
      "59\n",
      "61\n",
      "67\n",
      "71\n",
      "73\n",
      "79\n"
     ]
    }
   ],
   "source": [
    "start = 1\n",
    "end = 82\n",
    "for val in range(start, end + 1): \n",
    "    if val > 1: \n",
    "        for n in range(2, val//2 + 2): \n",
    "            if (val % n) == 0: \n",
    "                break\n",
    "            else: \n",
    "                if n == val//2 + 1: \n",
    "                    print(val) "
   ]
  },
  {
   "cell_type": "markdown",
   "metadata": {},
   "source": [
    "__Question 2 :__\n",
    "___Write a Python program to implement 15 functions of string.?___"
   ]
  },
  {
   "cell_type": "code",
   "execution_count": 40,
   "metadata": {},
   "outputs": [],
   "source": [
    "string = \"hi My name is Sharat Kumar DL\""
   ]
  },
  {
   "cell_type": "code",
   "execution_count": 45,
   "metadata": {},
   "outputs": [],
   "source": [
    "def stringfunction(text):\n",
    "    Capitalize = text.capitalize()\n",
    "    print(\"Capitalize function will convert the fist character to Upper case\")\n",
    "    return Capitalize"
   ]
  },
  {
   "cell_type": "code",
   "execution_count": 46,
   "metadata": {},
   "outputs": [
    {
     "name": "stdout",
     "output_type": "stream",
     "text": [
      "Capitalize function will convert the fist character to Upper case\n"
     ]
    },
    {
     "data": {
      "text/plain": [
       "'Hi my name is sharat kumar dl'"
      ]
     },
     "execution_count": 46,
     "metadata": {},
     "output_type": "execute_result"
    }
   ],
   "source": [
    "stringfunction(string)"
   ]
  },
  {
   "cell_type": "code",
   "execution_count": 51,
   "metadata": {},
   "outputs": [
    {
     "name": "stdout",
     "output_type": "stream",
     "text": [
      "Upper function will convert the hole paragragh to upper case\n"
     ]
    },
    {
     "data": {
      "text/plain": [
       "'HI MY NAME IS SHARAT KUMAR DL'"
      ]
     },
     "execution_count": 51,
     "metadata": {},
     "output_type": "execute_result"
    }
   ],
   "source": [
    "def stringconverttoupper(text):\n",
    "    Upper = text.upper()\n",
    "    print(\"Upper function will convert the hole paragragh to upper case\")\n",
    "    return Upper\n",
    "\n",
    "stringconverttoupper(string)    "
   ]
  },
  {
   "cell_type": "code",
   "execution_count": 52,
   "metadata": {},
   "outputs": [
    {
     "name": "stdout",
     "output_type": "stream",
     "text": [
      "lower function will convert the hole paragragh to lower case\n"
     ]
    },
    {
     "data": {
      "text/plain": [
       "'hi my name is sharat kumar dl'"
      ]
     },
     "execution_count": 52,
     "metadata": {},
     "output_type": "execute_result"
    }
   ],
   "source": [
    "def stringconverttolower(text):\n",
    "    Lower = text.lower()\n",
    "    print(\"lower function will convert the hole paragragh to lower case\")\n",
    "    return Lower\n",
    "stringconverttolower(string)"
   ]
  },
  {
   "cell_type": "code",
   "execution_count": 63,
   "metadata": {},
   "outputs": [
    {
     "name": "stdout",
     "output_type": "stream",
     "text": [
      "My age is 25.00 \n"
     ]
    }
   ],
   "source": [
    "txt = \"My age is {age:.2f} \"\n",
    "print(txt.format(age = 25))\n"
   ]
  },
  {
   "cell_type": "code",
   "execution_count": 65,
   "metadata": {},
   "outputs": [
    {
     "name": "stdout",
     "output_type": "stream",
     "text": [
      "Split function will split the para\n"
     ]
    },
    {
     "data": {
      "text/plain": [
       "['hi', 'My', 'name', 'is', 'Sharat', 'Kumar', 'DL']"
      ]
     },
     "execution_count": 65,
     "metadata": {},
     "output_type": "execute_result"
    }
   ],
   "source": [
    "def string_split(text):\n",
    "    Split = text.split()\n",
    "    print(\"Split function will split the para\")\n",
    "    return Split\n",
    "string_split(string)"
   ]
  },
  {
   "cell_type": "code",
   "execution_count": 67,
   "metadata": {},
   "outputs": [
    {
     "name": "stdout",
     "output_type": "stream",
     "text": [
      "Title function will convert starting letter of each word to upper case\n"
     ]
    },
    {
     "data": {
      "text/plain": [
       "'Hi My Name Is Sharat Kumar Dl'"
      ]
     },
     "execution_count": 67,
     "metadata": {},
     "output_type": "execute_result"
    }
   ],
   "source": [
    "def string_title(text):\n",
    "    Title = text.title()\n",
    "    print(\"Title function will convert starting letter of each word to upper case\")\n",
    "    return Title\n",
    "string_title(string)"
   ]
  },
  {
   "cell_type": "code",
   "execution_count": 69,
   "metadata": {},
   "outputs": [
    {
     "name": "stdout",
     "output_type": "stream",
     "text": [
      "Swapcase function will convert upper letter to lower case and lower case to upper\n"
     ]
    },
    {
     "data": {
      "text/plain": [
       "'HI mY NAME IS sHARAT kUMAR dl'"
      ]
     },
     "execution_count": 69,
     "metadata": {},
     "output_type": "execute_result"
    }
   ],
   "source": [
    "def string_swapcase(text):\n",
    "    Swap = text.swapcase()\n",
    "    print(\"Swapcase function will convert upper letter to lower case and lower case to upper\")\n",
    "    return Swap\n",
    "string_swapcase(string)"
   ]
  },
  {
   "cell_type": "code",
   "execution_count": 74,
   "metadata": {},
   "outputs": [
    {
     "name": "stdout",
     "output_type": "stream",
     "text": [
      "Count function will return how many times a word occerd in the sentence\n"
     ]
    },
    {
     "data": {
      "text/plain": [
       "4"
      ]
     },
     "execution_count": 74,
     "metadata": {},
     "output_type": "execute_result"
    }
   ],
   "source": [
    "text = \"a b c d e f g h a a a\"\n",
    "text = text.count('a')\n",
    "print(\"Count function will return how many times a word occerd in the sentence\")\n",
    "text\n"
   ]
  },
  {
   "cell_type": "code",
   "execution_count": 78,
   "metadata": {},
   "outputs": [
    {
     "name": "stdout",
     "output_type": "stream",
     "text": [
      "endswith function will check if the sentence is ending with given parameter or not,if it is ending with the given parameter then it will return TRUE or FALSE\n"
     ]
    },
    {
     "data": {
      "text/plain": [
       "True"
      ]
     },
     "execution_count": 78,
     "metadata": {},
     "output_type": "execute_result"
    }
   ],
   "source": [
    "txt  = \"Hi my name is sharat.\"\n",
    "txt = txt.endswith('.')\n",
    "\n",
    "print(\"endswith function will check if the sentence is ending with given parameter or not,if it is ending with the given parameter then it will return TRUE or FALSE\")\n",
    "txt"
   ]
  },
  {
   "cell_type": "code",
   "execution_count": 84,
   "metadata": {},
   "outputs": [
    {
     "name": "stdout",
     "output_type": "stream",
     "text": [
      "Index function will return the number of given parameter\n",
      "7\n"
     ]
    }
   ],
   "source": [
    "txt = \"Hello, welcome to my world.\"\n",
    "\n",
    "x = txt.index(\"welcome\")\n",
    "\n",
    "print(\"Index function will return the number of given parameter\")\n",
    "\n",
    "print(x)"
   ]
  },
  {
   "cell_type": "code",
   "execution_count": 92,
   "metadata": {},
   "outputs": [
    {
     "name": "stdout",
     "output_type": "stream",
     "text": [
      "ISIdentifier is a function which will check the value which is given is a string or not it willl return TRUE if its a string or else Flase\n",
      "True\n",
      "True\n",
      "False\n",
      "False\n"
     ]
    }
   ],
   "source": [
    "a = \"sharat\"\n",
    "b = \"sun1123\"\n",
    "c = \"3442ea\"\n",
    "d = \"my demo\"\n",
    "print(\"ISIdentifier is a function which will check the value which is given is a string or not it willl return TRUE if its a string or else Flase\")\n",
    "\n",
    "\n",
    "\n",
    "print(a.isidentifier())\n",
    "print(b.isidentifier())\n",
    "print(c.isidentifier())\n",
    "print(d.isidentifier())\n"
   ]
  },
  {
   "cell_type": "code",
   "execution_count": 89,
   "metadata": {},
   "outputs": [
    {
     "name": "stdout",
     "output_type": "stream",
     "text": [
      "Replace function will repleace the one word with another\n",
      "I like Mangoes\n"
     ]
    }
   ],
   "source": [
    "txt = \"I like Apples\"\n",
    "\n",
    "x = txt.replace(\"Apples\", \"Mangoes\")\n",
    "print(\"Replace function will repleace the one word with another\")\n",
    "\n",
    "print(x)"
   ]
  },
  {
   "cell_type": "code",
   "execution_count": 93,
   "metadata": {},
   "outputs": [
    {
     "name": "stdout",
     "output_type": "stream",
     "text": [
      "of all fruits banana is my favorite\n"
     ]
    }
   ],
   "source": [
    "txt = \"     banana     \"\n",
    "\n",
    "x = txt.strip()\n",
    "\n",
    "print(\"of all fruits\", x, \"is my favorite\")\n"
   ]
  },
  {
   "cell_type": "code",
   "execution_count": 95,
   "metadata": {},
   "outputs": [
    {
     "name": "stdout",
     "output_type": "stream",
     "text": [
      "True\n"
     ]
    }
   ],
   "source": [
    "txt = \"Hi my name is sharat.\"\n",
    "\n",
    "x = txt.startswith(\"Hi\")\n",
    "\n",
    "print(x)\n"
   ]
  },
  {
   "cell_type": "code",
   "execution_count": 98,
   "metadata": {},
   "outputs": [
    {
     "name": "stdout",
     "output_type": "stream",
     "text": [
      "['Hi My name is sharat', 'am 25 years old']\n"
     ]
    }
   ],
   "source": [
    "text = \"Hi My name is sharat\\nam 25 years old\"\n",
    "x = text.splitlines()\n",
    "\n",
    "print(x)"
   ]
  },
  {
   "cell_type": "code",
   "execution_count": null,
   "metadata": {},
   "outputs": [],
   "source": []
  },
  {
   "cell_type": "markdown",
   "metadata": {},
   "source": [
    "__Question 3:__\n",
    "___Write a Python program to check if the given string is a Palindrome or Anagram or None of them.\n",
    "Display the message accordingly to the user.?___"
   ]
  },
  {
   "cell_type": "code",
   "execution_count": 124,
   "metadata": {},
   "outputs": [
    {
     "name": "stdout",
     "output_type": "stream",
     "text": [
      "malayalam is a Palindrone\n"
     ]
    }
   ],
   "source": [
    "s = \"malayalam\"\n",
    "def palindrome (s):\n",
    "    if s == s[::-1]:\n",
    "        print(s,\"is a Palindrone\")\n",
    "    \n",
    "    \n",
    "palindrome(s)    "
   ]
  },
  {
   "cell_type": "code",
   "execution_count": 110,
   "metadata": {},
   "outputs": [],
   "source": [
    "def check(s1, s2):\n",
    "    if(sorted(s1)== sorted(s2)): \n",
    "        print(\"The strings are anagrams.\")  \n",
    "    else: \n",
    "        print(\"The strings aren't anagrams.\")  "
   ]
  },
  {
   "cell_type": "code",
   "execution_count": 112,
   "metadata": {},
   "outputs": [],
   "source": [
    "s1 = 'dad'\n",
    "s2 = 'bad'"
   ]
  },
  {
   "cell_type": "code",
   "execution_count": 113,
   "metadata": {},
   "outputs": [
    {
     "name": "stdout",
     "output_type": "stream",
     "text": [
      "The strings aren't anagrams.\n"
     ]
    }
   ],
   "source": [
    "s1 =\"listen\"\n",
    "s2 =\"silent\""
   ]
  },
  {
   "cell_type": "code",
   "execution_count": 125,
   "metadata": {},
   "outputs": [
    {
     "name": "stdout",
     "output_type": "stream",
     "text": [
      "The strings are anagrams.\n"
     ]
    }
   ],
   "source": [
    "check('listen','silent')"
   ]
  },
  {
   "cell_type": "markdown",
   "metadata": {},
   "source": [
    "__Question 4:__\n",
    "___Write a Python's user defined function that removes all the additional characters from the string\n",
    "and converts it finally to lower case using built-in lower(). eg: If the string is \"Dr. Darshan Ingle\n",
    "@AI-ML Trainer\", then the output be \"drdarshaningleaimltrainer\".?___"
   ]
  },
  {
   "cell_type": "code",
   "execution_count": 12,
   "metadata": {},
   "outputs": [],
   "source": [
    "name = \"Dr. Darshan Ingle @AI-ML Trainer\"\n",
    "import re "
   ]
  },
  {
   "cell_type": "code",
   "execution_count": 29,
   "metadata": {},
   "outputs": [],
   "source": [
    "def name_a(text):\n",
    "    text = text.lower()\n",
    "    text = re.sub('[.@-] ','',text)\n",
    "    text = re.sub('@','',text)\n",
    "    text = re.sub('-','',text)\n",
    "    text = re.sub(' ','',text)\n",
    "    return text"
   ]
  },
  {
   "cell_type": "code",
   "execution_count": 30,
   "metadata": {},
   "outputs": [
    {
     "data": {
      "text/plain": [
       "'drdarshaningleaimltrainer'"
      ]
     },
     "execution_count": 30,
     "metadata": {},
     "output_type": "execute_result"
    }
   ],
   "source": [
    "name_a(name)"
   ]
  },
  {
   "cell_type": "code",
   "execution_count": null,
   "metadata": {},
   "outputs": [],
   "source": []
  }
 ],
 "metadata": {
  "kernelspec": {
   "display_name": "Python 3",
   "language": "python",
   "name": "python3"
  },
  "language_info": {
   "codemirror_mode": {
    "name": "ipython",
    "version": 3
   },
   "file_extension": ".py",
   "mimetype": "text/x-python",
   "name": "python",
   "nbconvert_exporter": "python",
   "pygments_lexer": "ipython3",
   "version": "3.7.6"
  }
 },
 "nbformat": 4,
 "nbformat_minor": 4
}
